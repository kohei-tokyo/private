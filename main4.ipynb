{
 "cells": [
  {
   "metadata": {},
   "cell_type": "code",
   "source": [
    "from main_module import DDPM\n",
    "import torch\n",
    "\n",
    "# model_unets = [\"deep\", \"original\", \"normal\"]\n",
    "model_unets = [\"gemini\"]\n",
    "dim_mults_list = [(1, 2, 4), (1, 2, 4, 8)]\n",
    "for model_unet in model_unets:\n",
    "    for dim_mults in dim_mults_list:\n",
    "        model = DDPM(\n",
    "            dir=r\"D:\\Matsusaka\\data_mito\\HeLa_Su9-mSG_crop64_norm\",\n",
    "            name=f\"model_unet_1022_{model_unet}_{len(dim_mults)}\",\n",
    "            group=f\"64_unet_gemini_1022\",\n",
    "            train_folders=[\"c2\", \"c3\", \"c4\"],\n",
    "            val_folders=[\"c1\"],\n",
    "            test_folders=[\"c5\"],\n",
    "            n_epoch=300,\n",
    "            learning_rate=3e-5,\n",
    "            device=torch.device(f'cuda:{torch.cuda.current_device()}' if torch.cuda.is_available() else 'cpu'),\n",
    "            num_workers=8,\n",
    "            batch_size=4,\n",
    "            patches_per_epoch=500,\n",
    "            patches_per_epoch_val=10,\n",
    "            val_epoch=5,\n",
    "            noise_steps=1000,\n",
    "            num_inference_steps=50,\n",
    "            image_size=64,\n",
    "            noise_add=True,\n",
    "            cfg_scale=5,\n",
    "            no_label=True,\n",
    "            mode_dif=\"ddim\",\n",
    "            model_unet=model_unet,\n",
    "            dim_mults=dim_mults\n",
    "        )\n",
    "        model.all()"
   ],
   "id": "8d233c9f691e4463",
   "outputs": [],
   "execution_count": null
  },
  {
   "metadata": {},
   "cell_type": "code",
   "source": [
    "from main_module import DDPM\n",
    "import torch\n",
    "\n",
    "# model_unets = [\"deep\", \"original\", \"normal\"]\n",
    "model_unets = [\"gemini\"]\n",
    "dim_mults_list = [(1, 2, 4, 8), (1, 2, 4, 4, 8)]\n",
    "for model_unet in model_unets:\n",
    "    for dim_mults in dim_mults_list:\n",
    "        model = DDPM(\n",
    "            dir=r\"D:\\Matsusaka\\data_mito\\HeLa_Su9-mSG_crop128_norm\",\n",
    "            name=f\"128_model_unet_1023_{model_unet}_{len(dim_mults)}\",\n",
    "            group=f\"128_unet_gemini_1023\",\n",
    "            train_folders=[\"c2\", \"c3\", \"c4\"],\n",
    "            val_folders=[\"c1\"],\n",
    "            test_folders=[\"c5\"],\n",
    "            n_epoch=300,\n",
    "            learning_rate=3e-5,\n",
    "            device=torch.device(f'cuda:{torch.cuda.current_device()}' if torch.cuda.is_available() else 'cpu'),\n",
    "            num_workers=4,\n",
    "            batch_size=4,\n",
    "            patches_per_epoch=500,\n",
    "            patches_per_epoch_val=10,\n",
    "            val_epoch=5,\n",
    "            noise_steps=1000,\n",
    "            num_inference_steps=50,\n",
    "            image_size=128,\n",
    "            noise_add=True,\n",
    "            cfg_scale=5,\n",
    "            no_label=True,\n",
    "            mode_dif=\"ddim\",\n",
    "            model_unet=model_unet,\n",
    "            dim_mults=dim_mults\n",
    "        )\n",
    "        model.all()"
   ],
   "id": "initial_id",
   "outputs": [],
   "execution_count": null
  },
  {
   "metadata": {},
   "cell_type": "code",
   "source": "",
   "id": "21819f77da3d281",
   "outputs": [],
   "execution_count": null
  }
 ],
 "metadata": {
  "kernelspec": {
   "display_name": "Python 3",
   "language": "python",
   "name": "python3"
  },
  "language_info": {
   "codemirror_mode": {
    "name": "ipython",
    "version": 2
   },
   "file_extension": ".py",
   "mimetype": "text/x-python",
   "name": "python",
   "nbconvert_exporter": "python",
   "pygments_lexer": "ipython2",
   "version": "2.7.6"
  }
 },
 "nbformat": 4,
 "nbformat_minor": 5
}
