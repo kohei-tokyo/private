{
 "cells": [
  {
   "cell_type": "code",
   "id": "initial_id",
   "metadata": {
    "collapsed": true
   },
   "source": [
    "import torch\n",
    "import torch.nn as nn\n",
    "from torch.utils.tensorboard import SummaryWriter\n",
    "from modules import UNet_conditional, UNet_conditional_ori, UNet_conditional_deep, UNet_conditional_sa_5, UNet_conditional_dc_5\n",
    "\n",
    "# モデルのインスタンスを作成\n",
    "model = UNet_conditional_ori(\n",
    "    c_in=2 + 1,\n",
    "    c_out=1,\n",
    "    time_dim=256,\n",
    "    device=\"cpu\"\n",
    ")\n",
    "\n",
    "# TensorBoardのライターを初期化\n",
    "# ログは 'runs/unet_graph' ディレクトリに保存される\n",
    "writer = SummaryWriter('runs/unet_graph')\n",
    "\n",
    "# モデルに入力するダミーテンソルを作成\n",
    "# (バッチサイズ, チャンネル数, 高さ, 幅)\n",
    "dummy_input = (torch.randn(1, 1, 64, 64), torch.randint(low=1, high=1000, size=(1,)), torch.randn(1, 2, 64, 64))\n",
    "\n",
    "# モデルの計算グラフをTensorBoardに追加\n",
    "writer.add_graph(model, dummy_input)\n",
    "writer.close()\n",
    "\n",
    "print(\"TensorBoardのログファイルを 'runs/unet_graph' に保存しました。\")\n",
    "print(\"ターミナルで `tensorboard --logdir=runs` を実行して確認してください。\")"
   ],
   "outputs": [],
   "execution_count": null
  },
  {
   "metadata": {
    "ExecuteTime": {
     "end_time": "2025-10-23T10:26:11.442918Z",
     "start_time": "2025-10-23T10:26:10.581541Z"
    }
   },
   "cell_type": "code",
   "source": [
    "import torch\n",
    "import torch.nn as nn\n",
    "from torchviz import make_dot\n",
    "\n",
    "# モデルのインスタンスを作成\n",
    "model = UNet_conditional_ori(\n",
    "    c_in=2 + 1,\n",
    "    c_out=1,\n",
    "    time_dim=256,\n",
    "    device=\"cpu\"\n",
    ")\n",
    "\n",
    "# フォワードパスを実行して出力を得る\n",
    "y = model(torch.randn(1, 1, 64, 64), torch.randint(low=1, high=1000, size=(1,)), torch.randn(1, 2, 64, 64))\n",
    "\n",
    "# 計算グラフを生成\n",
    "# paramsにはモデルのパラメータを渡すと、グラフにパラメータ名が表示される\n",
    "graph = make_dot(y, params=dict(model.named_parameters()))\n",
    "# グラフをファイルに保存（例: unet_graph.pdf）\n",
    "graph.render('UNet_conditional_ori_graph', format='pdf', cleanup=True)\n",
    "\n",
    "print(\"計算グラフを 'unet_graph.pdf' として保存しました。\")"
   ],
   "id": "a6d03f39e59d4b9f",
   "outputs": [
    {
     "name": "stdout",
     "output_type": "stream",
     "text": [
      "計算グラフを 'unet_graph.pdf' として保存しました。\n"
     ]
    }
   ],
   "execution_count": 3
  },
  {
   "metadata": {},
   "cell_type": "code",
   "source": [
    "import torch\n",
    "from torchviz import make_dot\n",
    "\n",
    "\n",
    "model = UNet_conditional_ori(\n",
    "    c_in=2 + 1,\n",
    "    c_out=1,\n",
    "    time_dim=256,\n",
    "    device=\"cpu\"\n",
    ")\n",
    "\n",
    "y = model(torch.randn(1, 1, 64, 64), torch.randint(low=1, high=1000, size=(1,)), torch.randn(1, 2, 64, 64))\n",
    "make_dot(var=y)\n",
    "# image = make_dot(y, params=dict(model.named_parameters()))\n",
    "# image.format = \"png\"\n",
    "# image.render(\"NeuralNet\")"
   ],
   "id": "75975f536ff3a2f8",
   "outputs": [],
   "execution_count": null
  },
  {
   "metadata": {},
   "cell_type": "code",
   "source": [
    "import numpy as np\n",
    "import matplotlib.pyplot as plt\n",
    "\n",
    "import torch\n",
    "import torch.nn as nn\n",
    "import torch.optim as optim\n",
    "import torch.nn.functional as F\n",
    "\n",
    "from torchviz import make_dot\n",
    "from IPython.display import display\n",
    "\n",
    "model = UNet_conditional_ori(\n",
    "    c_in=2 + 1,\n",
    "    c_out=1,\n",
    "    time_dim=256,\n",
    "    device=\"cpu\"\n",
    ")\n",
    "\n",
    "# 出力\n",
    "y = model(torch.randn(1, 1, 64, 64), torch.randint(low=1, high=1000, size=(1,)), torch.randn(1, 2, 64, 64))\n",
    "\n",
    "# 計算グラフを表示\n",
    "img = make_dot(y, params=dict(model.named_parameters()))\n",
    "display(img)"
   ],
   "id": "1ac0688c4a8f71a0",
   "outputs": [],
   "execution_count": null
  },
  {
   "metadata": {},
   "cell_type": "code",
   "source": [
    "import torchinfo\n",
    "\n",
    "torchinfo.summary(\n",
    "    UNet_conditional_ori(\n",
    "        c_in=2 + 1,\n",
    "        c_out=1,\n",
    "        time_dim=256,\n",
    "        device=\"cpu\"\n",
    "    ), \n",
    "    input_size=(8,3,512,512)\n",
    ")"
   ],
   "id": "cf9c363f382b19be",
   "outputs": [],
   "execution_count": null
  }
 ],
 "metadata": {
  "kernelspec": {
   "display_name": "Python 3",
   "language": "python",
   "name": "python3"
  },
  "language_info": {
   "codemirror_mode": {
    "name": "ipython",
    "version": 2
   },
   "file_extension": ".py",
   "mimetype": "text/x-python",
   "name": "python",
   "nbconvert_exporter": "python",
   "pygments_lexer": "ipython2",
   "version": "2.7.6"
  }
 },
 "nbformat": 4,
 "nbformat_minor": 5
}
